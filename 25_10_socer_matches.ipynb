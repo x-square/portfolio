{
 "cells": [
  {
   "cell_type": "markdown",
   "id": "ea57b9d0",
   "metadata": {},
   "source": [
    "`Hypothesis Testing on Soccer Matches between Genders with Python`\n",
    "\n",
    "`October 2025`\n",
    "\n",
    "This report presents the findings of a hypothesis test conducted to compare the average number of goals scored per match in FIFA World Cup games for men and women since 2002. The analysis aims to determine whether there is a statistically significant difference in scoring patterns between the two genders.\n",
    "\n",
    "`Any questions, please reach out!`\n",
    "\n",
    "Chiawei Wang, PhD\\\n",
    "Data & Product Analyst\\\n",
    "<chiawei.w@outlook.com>\n",
    "\n",
    "`*` Note that the table of contents and other links may not work directly on GitHub.\n",
    "\n",
    "[Table of Contents](#table-of-contents)\n",
    "1. [Executive Summary](#executive-summary)\n",
    "   - [Background](#background)\n",
    "   - [Null Hypothesis](#null-hypothesis)\n",
    "   - [Data Overview](#data-overview)\n",
    "   - [Approach](#approach)\n",
    "   - [Results](#results)\n",
    "   - [Conclusion](#conclusion)\n",
    "2. [Exploratory Data Analysis](#exploratory-data-analysis)"
   ]
  },
  {
   "cell_type": "markdown",
   "id": "ee22a289",
   "metadata": {},
   "source": [
    "# Executive Summary\n",
    "\n",
    "## Background\n",
    "\n",
    "As a sports journalist, we have observed that women's international soccer matches seem to have more goals scored than men's matches. To investigate this further, we have collected data on official FIFA World Cup matches since 1st January 2002.\n",
    "\n",
    "## Null Hypothesis\n",
    "\n",
    "`Are more goals scored in women's international soccer matches than men's?`\n",
    "\n",
    "We assume a 5% significance level, and use the following null and alternative hypotheses:\n",
    "\n",
    "- H0: The mean of goals scored in women's international soccer matches is the same as men's.\n",
    "- H1: The mean of goals scored in women's international soccer matches is greater than men's.\n",
    "\n",
    "## Data Overview\n",
    "\n",
    "The dataset contains the following columns:\n",
    "\n",
    "| Column         | Description                   |\n",
    "| -------------- | ----------------------------- |\n",
    "| **date**       | Match date in ISO format      |\n",
    "| **home_team**  | Name of the home team         |\n",
    "| **away_team**  | Name of the away team         |\n",
    "| **home_score** | Goals scored by the home team |\n",
    "| **away_score** | Goals scored by the away team |\n",
    "| **tournament** | Name of the competition       |\n",
    "\n",
    "## Approach\n",
    "\n",
    "1. Exploratory data analysis\n",
    "2. Filtering the data\n",
    "3. Choosing the correct hypothesis test\n",
    "4. Performing the hypothesis test\n",
    "5. Interpreting the result of the hypothesis test\n",
    "\n",
    "## Results\n",
    "\n",
    "A right-tailed Mann–Whitney U test was conducted to compare the number of goals scored per match in FIFA World Cup games for men and women since 2002. The results are as follows:\n",
    "\n",
    "- Alpha level: 0.05\n",
    "- P-value: 0.0051066098254436395\n",
    "- Decision: Reject the null hypothesis\n",
    "\n",
    "## Conclusion\n",
    "\n",
    "The analysis indicates that there is sufficient evidence to suggest that more goals are scored in women's international soccer matches than in men's matches. This finding has important implications for the promotion and support of women's sports. Further research could explore the factors contributing to this difference in scoring patterns."
   ]
  },
  {
   "cell_type": "markdown",
   "id": "e0e3846b",
   "metadata": {},
   "source": [
    "# Exploratory Data Analysis"
   ]
  },
  {
   "cell_type": "code",
   "execution_count": 1,
   "id": "ec1b1bd7",
   "metadata": {},
   "outputs": [],
   "source": [
    "# Import necessary libraries\n",
    "import pandas as pd\n",
    "import matplotlib.pyplot as plt\n",
    "import pingouin as pg"
   ]
  },
  {
   "cell_type": "code",
   "execution_count": 2,
   "id": "74c39bf0",
   "metadata": {},
   "outputs": [
    {
     "name": "stdout",
     "output_type": "stream",
     "text": [
      "(44353, 6)\n"
     ]
    },
    {
     "data": {
      "text/html": [
       "<div>\n",
       "<style scoped>\n",
       "    .dataframe tbody tr th:only-of-type {\n",
       "        vertical-align: middle;\n",
       "    }\n",
       "\n",
       "    .dataframe tbody tr th {\n",
       "        vertical-align: top;\n",
       "    }\n",
       "\n",
       "    .dataframe thead th {\n",
       "        text-align: right;\n",
       "    }\n",
       "</style>\n",
       "<table border=\"1\" class=\"dataframe\">\n",
       "  <thead>\n",
       "    <tr style=\"text-align: right;\">\n",
       "      <th></th>\n",
       "      <th>date</th>\n",
       "      <th>home_team</th>\n",
       "      <th>away_team</th>\n",
       "      <th>home_score</th>\n",
       "      <th>away_score</th>\n",
       "      <th>tournament</th>\n",
       "    </tr>\n",
       "  </thead>\n",
       "  <tbody>\n",
       "    <tr>\n",
       "      <th>0</th>\n",
       "      <td>1872-11-30</td>\n",
       "      <td>Scotland</td>\n",
       "      <td>England</td>\n",
       "      <td>0</td>\n",
       "      <td>0</td>\n",
       "      <td>Friendly</td>\n",
       "    </tr>\n",
       "    <tr>\n",
       "      <th>1</th>\n",
       "      <td>1873-03-08</td>\n",
       "      <td>England</td>\n",
       "      <td>Scotland</td>\n",
       "      <td>4</td>\n",
       "      <td>2</td>\n",
       "      <td>Friendly</td>\n",
       "    </tr>\n",
       "    <tr>\n",
       "      <th>2</th>\n",
       "      <td>1874-03-07</td>\n",
       "      <td>Scotland</td>\n",
       "      <td>England</td>\n",
       "      <td>2</td>\n",
       "      <td>1</td>\n",
       "      <td>Friendly</td>\n",
       "    </tr>\n",
       "    <tr>\n",
       "      <th>3</th>\n",
       "      <td>1875-03-06</td>\n",
       "      <td>England</td>\n",
       "      <td>Scotland</td>\n",
       "      <td>2</td>\n",
       "      <td>2</td>\n",
       "      <td>Friendly</td>\n",
       "    </tr>\n",
       "    <tr>\n",
       "      <th>4</th>\n",
       "      <td>1876-03-04</td>\n",
       "      <td>Scotland</td>\n",
       "      <td>England</td>\n",
       "      <td>3</td>\n",
       "      <td>0</td>\n",
       "      <td>Friendly</td>\n",
       "    </tr>\n",
       "  </tbody>\n",
       "</table>\n",
       "</div>"
      ],
      "text/plain": [
       "         date home_team away_team  home_score  away_score tournament\n",
       "0  1872-11-30  Scotland   England           0           0   Friendly\n",
       "1  1873-03-08   England  Scotland           4           2   Friendly\n",
       "2  1874-03-07  Scotland   England           2           1   Friendly\n",
       "3  1875-03-06   England  Scotland           2           2   Friendly\n",
       "4  1876-03-04  Scotland   England           3           0   Friendly"
      ]
     },
     "execution_count": 2,
     "metadata": {},
     "output_type": "execute_result"
    }
   ],
   "source": [
    "# Read in the CSV as a DataFrame\n",
    "men = pd.read_csv('soccer_men.csv')\n",
    "\n",
    "# Preview the data\n",
    "print(men.shape)\n",
    "men.head()"
   ]
  },
  {
   "cell_type": "code",
   "execution_count": 3,
   "id": "422dd246",
   "metadata": {},
   "outputs": [
    {
     "name": "stdout",
     "output_type": "stream",
     "text": [
      "(4884, 6)\n"
     ]
    },
    {
     "data": {
      "text/html": [
       "<div>\n",
       "<style scoped>\n",
       "    .dataframe tbody tr th:only-of-type {\n",
       "        vertical-align: middle;\n",
       "    }\n",
       "\n",
       "    .dataframe tbody tr th {\n",
       "        vertical-align: top;\n",
       "    }\n",
       "\n",
       "    .dataframe thead th {\n",
       "        text-align: right;\n",
       "    }\n",
       "</style>\n",
       "<table border=\"1\" class=\"dataframe\">\n",
       "  <thead>\n",
       "    <tr style=\"text-align: right;\">\n",
       "      <th></th>\n",
       "      <th>date</th>\n",
       "      <th>home_team</th>\n",
       "      <th>away_team</th>\n",
       "      <th>home_score</th>\n",
       "      <th>away_score</th>\n",
       "      <th>tournament</th>\n",
       "    </tr>\n",
       "  </thead>\n",
       "  <tbody>\n",
       "    <tr>\n",
       "      <th>0</th>\n",
       "      <td>1969-11-01</td>\n",
       "      <td>Italy</td>\n",
       "      <td>France</td>\n",
       "      <td>1</td>\n",
       "      <td>0</td>\n",
       "      <td>Euro</td>\n",
       "    </tr>\n",
       "    <tr>\n",
       "      <th>1</th>\n",
       "      <td>1969-11-01</td>\n",
       "      <td>Denmark</td>\n",
       "      <td>England</td>\n",
       "      <td>4</td>\n",
       "      <td>3</td>\n",
       "      <td>Euro</td>\n",
       "    </tr>\n",
       "    <tr>\n",
       "      <th>2</th>\n",
       "      <td>1969-11-02</td>\n",
       "      <td>England</td>\n",
       "      <td>France</td>\n",
       "      <td>2</td>\n",
       "      <td>0</td>\n",
       "      <td>Euro</td>\n",
       "    </tr>\n",
       "    <tr>\n",
       "      <th>3</th>\n",
       "      <td>1969-11-02</td>\n",
       "      <td>Italy</td>\n",
       "      <td>Denmark</td>\n",
       "      <td>3</td>\n",
       "      <td>1</td>\n",
       "      <td>Euro</td>\n",
       "    </tr>\n",
       "    <tr>\n",
       "      <th>4</th>\n",
       "      <td>1975-08-25</td>\n",
       "      <td>Thailand</td>\n",
       "      <td>Australia</td>\n",
       "      <td>3</td>\n",
       "      <td>2</td>\n",
       "      <td>AFC Championship</td>\n",
       "    </tr>\n",
       "  </tbody>\n",
       "</table>\n",
       "</div>"
      ],
      "text/plain": [
       "         date home_team  away_team  home_score  away_score        tournament\n",
       "0  1969-11-01     Italy     France           1           0              Euro\n",
       "1  1969-11-01   Denmark    England           4           3              Euro\n",
       "2  1969-11-02   England     France           2           0              Euro\n",
       "3  1969-11-02     Italy    Denmark           3           1              Euro\n",
       "4  1975-08-25  Thailand  Australia           3           2  AFC Championship"
      ]
     },
     "execution_count": 3,
     "metadata": {},
     "output_type": "execute_result"
    }
   ],
   "source": [
    "# Read in the CSV as a DataFrame\n",
    "women = pd.read_csv('soccer_women.csv')\n",
    "\n",
    "# Preview the data\n",
    "print(women.shape)\n",
    "women.head()"
   ]
  },
  {
   "cell_type": "code",
   "execution_count": 4,
   "id": "a2600281",
   "metadata": {},
   "outputs": [],
   "source": [
    "# Filter the data for the time range and tournament\n",
    "men['date'] = pd.to_datetime(men['date'])\n",
    "men_subset = men[(men['date'] > '2002-01-01') & (men['tournament'].isin(['FIFA World Cup']))]\n",
    "women['date'] = pd.to_datetime(women['date'])\n",
    "women_subset = women[(women['date'] > '2002-01-01') & (women['tournament'].isin(['FIFA World Cup']))]"
   ]
  },
  {
   "cell_type": "code",
   "execution_count": 5,
   "id": "00bd6b1c",
   "metadata": {},
   "outputs": [],
   "source": [
    "# Make explicit copies of the filtered DataFrames\n",
    "men_subset = men[(men['date'] > '2002-01-01') & (men['tournament'] == 'FIFA World Cup')].copy()\n",
    "women_subset = women[(women['date'] > '2002-01-01') & (women['tournament'] == 'FIFA World Cup')].copy()\n",
    "\n",
    "# Add group and goals_scored columns safely\n",
    "men_subset['group'] = 'men'\n",
    "women_subset['group'] = 'women'\n",
    "\n",
    "men_subset['goals_scored'] = men_subset['home_score'] + men_subset['away_score']\n",
    "women_subset['goals_scored'] = women_subset['home_score'] + women_subset['away_score']"
   ]
  },
  {
   "cell_type": "code",
   "execution_count": 6,
   "id": "24e1ecf8",
   "metadata": {},
   "outputs": [
    {
     "data": {
      "image/png": "[encoded data removed]",
      "text/plain": [
       "<Figure size 640x480 with 1 Axes>"
      ]
     },
     "metadata": {},
     "output_type": "display_data"
    },
    {
     "data": {
      "image/png": "[encoded data removed]",
      "text/plain": [
       "<Figure size 640x480 with 1 Axes>"
      ]
     },
     "metadata": {},
     "output_type": "display_data"
    }
   ],
   "source": [
    "# Determine normality using histograms for men\n",
    "men_subset['goals_scored'].hist()\n",
    "plt.show()\n",
    "\n",
    "# Determine normality using histograms for women\n",
    "women_subset['goals_scored'].hist()\n",
    "plt.show()"
   ]
  },
  {
   "cell_type": "code",
   "execution_count": 7,
   "id": "8ad0e74c",
   "metadata": {},
   "outputs": [],
   "source": [
    "# Combine women's and men's data and calculate goals scored in each match\n",
    "both = pd.concat([women_subset, men_subset], axis = 0, ignore_index = True)"
   ]
  },
  {
   "cell_type": "code",
   "execution_count": 8,
   "id": "b46f81da",
   "metadata": {},
   "outputs": [],
   "source": [
    "# Transform the data for the pingouin Mann-Whitney U test\n",
    "both_subset = both[['goals_scored', 'group']]\n",
    "both_subset_wide = both_subset.pivot(columns = 'group', values = 'goals_scored')"
   ]
  },
  {
   "cell_type": "code",
   "execution_count": 9,
   "id": "a4163c87",
   "metadata": {},
   "outputs": [],
   "source": [
    "# Perform right-tailed Wilcoxon-Mann-Whitney test with pingouin\n",
    "results = pg.mwu(x = both_subset_wide['women'],\n",
    "                       y = both_subset_wide['men'],\n",
    "                       alternative = 'greater')"
   ]
  },
  {
   "cell_type": "code",
   "execution_count": 10,
   "id": "62102e0d",
   "metadata": {},
   "outputs": [],
   "source": [
    "# Extract p-value as a float\n",
    "p_value = results['p-val'].values[0]"
   ]
  },
  {
   "cell_type": "code",
   "execution_count": 11,
   "id": "c15313d7",
   "metadata": {},
   "outputs": [
    {
     "name": "stdout",
     "output_type": "stream",
     "text": [
      "{'p_value': np.float64(0.0051066098254436395), 'result': 'reject'}\n"
     ]
    }
   ],
   "source": [
    "# Determine hypothesis test result using alpha = 0.05\n",
    "if p_value <= 0.05:\n",
    "    result = 'reject'\n",
    "else:\n",
    "    result = 'fail to reject'\n",
    "\n",
    "result_summary = {'p_value': p_value, 'result': result}\n",
    "print(result_summary)"
   ]
  }
 ],
 "metadata": {
  "kernelspec": {
   "display_name": "Python 3",
   "language": "python",
   "name": "python3"
  },
  "language_info": {
   "codemirror_mode": {
    "name": "ipython",
    "version": 3
   },
   "file_extension": ".py",
   "mimetype": "text/x-python",
   "name": "python",
   "nbconvert_exporter": "python",
   "pygments_lexer": "ipython3",
   "version": "3.13.5"
  }
 },
 "nbformat": 4,
 "nbformat_minor": 5
}
